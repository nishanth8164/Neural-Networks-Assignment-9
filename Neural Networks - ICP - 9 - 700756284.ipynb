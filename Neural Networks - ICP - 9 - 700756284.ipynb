{
 "cells": [
  {
   "cell_type": "code",
   "execution_count": 1,
   "id": "e01a3ccd",
   "metadata": {},
   "outputs": [
    {
     "name": "stdout",
     "output_type": "stream",
     "text": [
      "WARNING:tensorflow:From C:\\Users\\DELL\\anaconda3\\Lib\\site-packages\\keras\\src\\losses.py:2976: The name tf.losses.sparse_softmax_cross_entropy is deprecated. Please use tf.compat.v1.losses.sparse_softmax_cross_entropy instead.\n",
      "\n"
     ]
    }
   ],
   "source": [
    "import pandas as pd #Basic packages for creating dataframes and loading dataset\n",
    "import numpy as np\n",
    "import matplotlib.pyplot as plt #Package for visualization\n",
    "import re #importing package for Regular expression operations\n",
    "from sklearn.model_selection import train_test_split #Package for splitting the data\n",
    "from sklearn.preprocessing import LabelEncoder #Package for conversion of categorical to Numerical\n",
    "from keras.preprocessing.text import Tokenizer #Tokenization\n",
    "from keras.preprocessing.sequence import pad_sequences #Add zeros or crop based on the length\n",
    "from keras.models import Sequential #Sequential Neural Network\n",
    "from keras.layers import Dense, Embedding, LSTM, SpatialDropout1D #For layers in Neural Network\n",
    "from keras.utils import to_categorical"
   ]
  },
  {
   "cell_type": "code",
   "execution_count": 3,
   "id": "128c8c49",
   "metadata": {},
   "outputs": [],
   "source": [
    "import pandas as pd\n",
    "\n",
    "# Load the dataset as a Pandas DataFrame\n",
    "dataset = pd.read_csv('Sentiment (3).csv')\n",
    "\n",
    "# Select only the necessary columns 'text' and 'sentiment'\n",
    "mask = dataset.columns.isin(['text', 'sentiment'])\n",
    "data = dataset.loc[:, mask]"
   ]
  },
  {
   "cell_type": "code",
   "execution_count": 4,
   "id": "35011854",
   "metadata": {},
   "outputs": [
    {
     "name": "stderr",
     "output_type": "stream",
     "text": [
      "C:\\Users\\DELL\\AppData\\Local\\Temp\\ipykernel_1984\\2214349272.py:1: SettingWithCopyWarning: \n",
      "A value is trying to be set on a copy of a slice from a DataFrame.\n",
      "Try using .loc[row_indexer,col_indexer] = value instead\n",
      "\n",
      "See the caveats in the documentation: https://pandas.pydata.org/pandas-docs/stable/user_guide/indexing.html#returning-a-view-versus-a-copy\n",
      "  data['text'] = data['text'].apply(lambda x: x.lower())\n",
      "C:\\Users\\DELL\\AppData\\Local\\Temp\\ipykernel_1984\\2214349272.py:2: SettingWithCopyWarning: \n",
      "A value is trying to be set on a copy of a slice from a DataFrame.\n",
      "Try using .loc[row_indexer,col_indexer] = value instead\n",
      "\n",
      "See the caveats in the documentation: https://pandas.pydata.org/pandas-docs/stable/user_guide/indexing.html#returning-a-view-versus-a-copy\n",
      "  data['text'] = data['text'].apply((lambda x: re.sub('[^a-zA-z0-9\\s]', '', x)))\n"
     ]
    }
   ],
   "source": [
    "data['text'] = data['text'].apply(lambda x: x.lower())\n",
    "data['text'] = data['text'].apply((lambda x: re.sub('[^a-zA-z0-9\\s]', '', x)))"
   ]
  },
  {
   "cell_type": "code",
   "execution_count": 5,
   "id": "9d359cc8",
   "metadata": {},
   "outputs": [],
   "source": [
    "for idx, row in data.iterrows():\n",
    "    row[0] = row[0].replace('rt', ' ') #Removing Retweets"
   ]
  },
  {
   "cell_type": "code",
   "execution_count": 6,
   "id": "dc3f8d61",
   "metadata": {},
   "outputs": [],
   "source": [
    "max_fatures = 2000\n",
    "tokenizer = Tokenizer(num_words=max_fatures, split=' ') #Maximum words is 2000 to tokenize sentence\n",
    "tokenizer.fit_on_texts(data['text'].values)\n",
    "X = tokenizer.texts_to_sequences(data['text'].values) #taking values to feature matrix"
   ]
  },
  {
   "cell_type": "code",
   "execution_count": 7,
   "id": "fbd9c204",
   "metadata": {},
   "outputs": [],
   "source": [
    "X = pad_sequences(X) #Padding the feature matrix\n",
    "\n",
    "embed_dim = 128 #Dimension of the Embedded layer\n",
    "lstm_out = 196 #Long short-term memory (LSTM) layer neurons"
   ]
  },
  {
   "cell_type": "code",
   "execution_count": 8,
   "id": "730c01a2",
   "metadata": {},
   "outputs": [],
   "source": [
    "def createmodel():\n",
    "    model = Sequential() #Sequential Neural Network\n",
    "    model.add(Embedding(max_fatures, embed_dim,input_length = X.shape[1])) #input dimension 2000 Neurons, output dimension 128 Neurons\n",
    "    model.add(LSTM(lstm_out, dropout=0.2, recurrent_dropout=0.2)) #Drop out 20%, 196 output Neurons, recurrent dropout 20%\n",
    "    model.add(Dense(3,activation='softmax')) #3 output neurons[positive, Neutral, Negative], softmax as activation\n",
    "    model.compile(loss = 'categorical_crossentropy', optimizer='adam',metrics = ['accuracy']) #Compiling the model\n",
    "    return model\n",
    "# print(model.summary())"
   ]
  },
  {
   "cell_type": "code",
   "execution_count": 9,
   "id": "4eb35848",
   "metadata": {},
   "outputs": [],
   "source": [
    "labelencoder = LabelEncoder() #Applying label Encoding on the label matrix\n",
    "integer_encoded = labelencoder.fit_transform(data['sentiment']) #fitting the model\n",
    "y = to_categorical(integer_encoded)\n",
    "X_train, X_test, Y_train, Y_test = train_test_split(X,y, test_size = 0.33, random_state = 42) #67% training data, 33% test data split\n",
    "     "
   ]
  },
  {
   "cell_type": "code",
   "execution_count": 10,
   "id": "7de7ce98",
   "metadata": {},
   "outputs": [
    {
     "name": "stdout",
     "output_type": "stream",
     "text": [
      "WARNING:tensorflow:From C:\\Users\\DELL\\anaconda3\\Lib\\site-packages\\keras\\src\\backend.py:873: The name tf.get_default_graph is deprecated. Please use tf.compat.v1.get_default_graph instead.\n",
      "\n",
      "WARNING:tensorflow:From C:\\Users\\DELL\\anaconda3\\Lib\\site-packages\\keras\\src\\optimizers\\__init__.py:309: The name tf.train.Optimizer is deprecated. Please use tf.compat.v1.train.Optimizer instead.\n",
      "\n",
      "WARNING:tensorflow:From C:\\Users\\DELL\\anaconda3\\Lib\\site-packages\\keras\\src\\utils\\tf_utils.py:492: The name tf.ragged.RaggedTensorValue is deprecated. Please use tf.compat.v1.ragged.RaggedTensorValue instead.\n",
      "\n",
      "WARNING:tensorflow:From C:\\Users\\DELL\\anaconda3\\Lib\\site-packages\\keras\\src\\engine\\base_layer_utils.py:384: The name tf.executing_eagerly_outside_functions is deprecated. Please use tf.compat.v1.executing_eagerly_outside_functions instead.\n",
      "\n",
      "291/291 - 37s - loss: 0.8217 - accuracy: 0.6441 - 37s/epoch - 129ms/step\n",
      "144/144 - 3s - loss: 0.7439 - accuracy: 0.6734 - 3s/epoch - 22ms/step\n",
      "0.7438554167747498\n",
      "0.6734381914138794\n"
     ]
    }
   ],
   "source": [
    "\n",
    "batch_size = 32 #Batch size 32\n",
    "model = createmodel() #Function call to Sequential Neural Network\n",
    "model.fit(X_train, Y_train, epochs = 1, batch_size=batch_size, verbose = 2) #verbose the higher, the more messages\n",
    "score,acc = model.evaluate(X_test,Y_test,verbose=2,batch_size=batch_size) #evaluating the model\n",
    "print(score)\n",
    "print(acc)"
   ]
  },
  {
   "cell_type": "code",
   "execution_count": 11,
   "id": "b191f574",
   "metadata": {},
   "outputs": [
    {
     "name": "stdout",
     "output_type": "stream",
     "text": [
      "['loss', 'accuracy']\n"
     ]
    }
   ],
   "source": [
    "\n",
    "print(model.metrics_names) #metrics of the model"
   ]
  },
  {
   "cell_type": "markdown",
   "id": "724c1105",
   "metadata": {},
   "source": [
    "1. Save the model and use the saved model to predict on new text data (ex, “A lot of good things are happening. We are respected again throughout the world, and that's a great thing.@realDonaldTrump”)\n"
   ]
  },
  {
   "cell_type": "code",
   "execution_count": 13,
   "id": "bacb67fb",
   "metadata": {},
   "outputs": [
    {
     "name": "stderr",
     "output_type": "stream",
     "text": [
      "C:\\Users\\DELL\\anaconda3\\Lib\\site-packages\\keras\\src\\engine\\training.py:3103: UserWarning: You are saving your model as an HDF5 file via `model.save()`. This file format is considered legacy. We recommend using instead the native Keras format, e.g. `model.save('my_model.keras')`.\n",
      "  saving_api.save_model(\n"
     ]
    }
   ],
   "source": [
    "model.save('sentimentAnalysis.h5') #Saving the model"
   ]
  },
  {
   "cell_type": "code",
   "execution_count": 14,
   "id": "13b687b2",
   "metadata": {},
   "outputs": [],
   "source": [
    "from keras.models import load_model #Importing the package for importing the saved model\n",
    "model= load_model('sentimentAnalysis.h5') #loading the saved model"
   ]
  },
  {
   "cell_type": "code",
   "execution_count": 15,
   "id": "73ec105b",
   "metadata": {},
   "outputs": [
    {
     "name": "stdout",
     "output_type": "stream",
     "text": [
      "[1 2 1 ... 2 0 2]\n",
      "0         Neutral\n",
      "1        Positive\n",
      "2         Neutral\n",
      "3        Positive\n",
      "4        Positive\n",
      "           ...   \n",
      "13866    Negative\n",
      "13867    Positive\n",
      "13868    Positive\n",
      "13869    Negative\n",
      "13870    Positive\n",
      "Name: sentiment, Length: 13871, dtype: object\n"
     ]
    }
   ],
   "source": [
    "print(integer_encoded)\n",
    "print(data['sentiment'])"
   ]
  },
  {
   "cell_type": "code",
   "execution_count": 16,
   "id": "457e1580",
   "metadata": {},
   "outputs": [
    {
     "name": "stdout",
     "output_type": "stream",
     "text": [
      "1/1 - 1s - 753ms/epoch - 753ms/step\n",
      "[0.6492644  0.16503777 0.18569782]\n",
      "Neutral\n"
     ]
    }
   ],
   "source": [
    "# Predicting on the text data\n",
    "sentence = ['A lot of good things are happening. We are respected again throughout the world, and that is a great thing.@realDonaldTrump']\n",
    "sentence = tokenizer.texts_to_sequences(sentence) # Tokenizing the sentence\n",
    "sentence = pad_sequences(sentence, maxlen=28, dtype='int32', value=0) # Padding the sentence\n",
    "sentiment_probs = model.predict(sentence, batch_size=1, verbose=2)[0] # Predicting the sentence text\n",
    "sentiment = np.argmax(sentiment_probs)\n",
    "\n",
    "print(sentiment_probs)\n",
    "if sentiment == 0:\n",
    "    print(\"Neutral\")\n",
    "elif sentiment < 0:\n",
    "    print(\"Negative\")\n",
    "elif sentiment > 0:\n",
    "    print(\"Positive\")\n",
    "else:\n",
    "    print(\"Cannot be determined\")"
   ]
  },
  {
   "cell_type": "markdown",
   "id": "692bee2d",
   "metadata": {},
   "source": [
    "2. Apply GridSearchCV on the source code provided in the class"
   ]
  },
  {
   "cell_type": "code",
   "execution_count": 17,
   "id": "118634f0",
   "metadata": {},
   "outputs": [
    {
     "name": "stdout",
     "output_type": "stream",
     "text": [
      "Collecting scikeras\n",
      "  Obtaining dependency information for scikeras from https://files.pythonhosted.org/packages/5d/fa/9c1967952e7889d698f10ba8b6af79dfaa2e05178d97a79fbd9d1b44e589/scikeras-0.12.0-py3-none-any.whl.metadata\n",
      "  Downloading scikeras-0.12.0-py3-none-any.whl.metadata (4.0 kB)\n",
      "Requirement already satisfied: packaging>=0.21 in c:\\users\\dell\\anaconda3\\lib\\site-packages (from scikeras) (23.1)\n",
      "Requirement already satisfied: scikit-learn>=1.0.0 in c:\\users\\dell\\anaconda3\\lib\\site-packages (from scikeras) (1.3.0)\n",
      "Requirement already satisfied: tensorflow-io-gcs-filesystem<0.32,>=0.23.1 in c:\\users\\dell\\anaconda3\\lib\\site-packages (from scikeras) (0.31.0)\n",
      "Requirement already satisfied: numpy>=1.17.3 in c:\\users\\dell\\anaconda3\\lib\\site-packages (from scikit-learn>=1.0.0->scikeras) (1.24.3)\n",
      "Requirement already satisfied: scipy>=1.5.0 in c:\\users\\dell\\anaconda3\\lib\\site-packages (from scikit-learn>=1.0.0->scikeras) (1.11.1)\n",
      "Requirement already satisfied: joblib>=1.1.1 in c:\\users\\dell\\anaconda3\\lib\\site-packages (from scikit-learn>=1.0.0->scikeras) (1.2.0)\n",
      "Requirement already satisfied: threadpoolctl>=2.0.0 in c:\\users\\dell\\anaconda3\\lib\\site-packages (from scikit-learn>=1.0.0->scikeras) (2.2.0)\n",
      "Downloading scikeras-0.12.0-py3-none-any.whl (27 kB)\n",
      "Installing collected packages: scikeras\n",
      "Successfully installed scikeras-0.12.0\n",
      "Note: you may need to restart the kernel to use updated packages.\n"
     ]
    }
   ],
   "source": [
    "pip install scikeras"
   ]
  },
  {
   "cell_type": "code",
   "execution_count": 18,
   "id": "358cfa40",
   "metadata": {},
   "outputs": [
    {
     "name": "stdout",
     "output_type": "stream",
     "text": [
      "744/744 - 62s - loss: 0.8285 - accuracy: 0.6474 - 62s/epoch - 84ms/step\n",
      "186/186 - 3s - 3s/epoch - 15ms/step\n",
      "744/744 - 63s - loss: 0.8214 - accuracy: 0.6488 - 63s/epoch - 85ms/step\n",
      "186/186 - 3s - 3s/epoch - 17ms/step\n",
      "744/744 - 64s - loss: 0.8244 - accuracy: 0.6457 - 64s/epoch - 86ms/step\n",
      "186/186 - 3s - 3s/epoch - 16ms/step\n",
      "744/744 - 63s - loss: 0.8312 - accuracy: 0.6421 - 63s/epoch - 84ms/step\n",
      "186/186 - 3s - 3s/epoch - 14ms/step\n",
      "744/744 - 63s - loss: 0.8149 - accuracy: 0.6476 - 63s/epoch - 85ms/step\n",
      "186/186 - 6s - 6s/epoch - 31ms/step\n",
      "Epoch 1/2\n",
      "744/744 - 66s - loss: 0.8292 - accuracy: 0.6435 - 66s/epoch - 89ms/step\n",
      "Epoch 2/2\n",
      "744/744 - 58s - loss: 0.6781 - accuracy: 0.7137 - 58s/epoch - 78ms/step\n",
      "186/186 - 4s - 4s/epoch - 24ms/step\n",
      "Epoch 1/2\n",
      "744/744 - 62s - loss: 0.8212 - accuracy: 0.6454 - 62s/epoch - 83ms/step\n",
      "Epoch 2/2\n",
      "744/744 - 54s - loss: 0.6813 - accuracy: 0.7098 - 54s/epoch - 73ms/step\n",
      "186/186 - 3s - 3s/epoch - 15ms/step\n",
      "Epoch 1/2\n",
      "744/744 - 65s - loss: 0.8270 - accuracy: 0.6439 - 65s/epoch - 87ms/step\n",
      "Epoch 2/2\n",
      "744/744 - 56s - loss: 0.6876 - accuracy: 0.7129 - 56s/epoch - 75ms/step\n",
      "186/186 - 3s - 3s/epoch - 17ms/step\n",
      "Epoch 1/2\n",
      "744/744 - 78s - loss: 0.8265 - accuracy: 0.6418 - 78s/epoch - 105ms/step\n",
      "Epoch 2/2\n",
      "744/744 - 68s - loss: 0.6722 - accuracy: 0.7180 - 68s/epoch - 92ms/step\n",
      "186/186 - 11s - 11s/epoch - 57ms/step\n",
      "Epoch 1/2\n",
      "744/744 - 87s - loss: 0.8188 - accuracy: 0.6477 - 87s/epoch - 116ms/step\n",
      "Epoch 2/2\n",
      "744/744 - 78s - loss: 0.6637 - accuracy: 0.7190 - 78s/epoch - 105ms/step\n",
      "186/186 - 9s - 9s/epoch - 50ms/step\n",
      "372/372 - 44s - loss: 0.8428 - accuracy: 0.6416 - 44s/epoch - 119ms/step\n",
      "93/93 - 4s - 4s/epoch - 45ms/step\n",
      "372/372 - 41s - loss: 0.8266 - accuracy: 0.6421 - 41s/epoch - 110ms/step\n",
      "93/93 - 6s - 6s/epoch - 69ms/step\n",
      "372/372 - 54s - loss: 0.8310 - accuracy: 0.6403 - 54s/epoch - 145ms/step\n",
      "93/93 - 5s - 5s/epoch - 56ms/step\n",
      "372/372 - 51s - loss: 0.8400 - accuracy: 0.6389 - 51s/epoch - 137ms/step\n",
      "93/93 - 4s - 4s/epoch - 47ms/step\n",
      "372/372 - 44s - loss: 0.8249 - accuracy: 0.6433 - 44s/epoch - 118ms/step\n",
      "93/93 - 4s - 4s/epoch - 38ms/step\n",
      "Epoch 1/2\n",
      "372/372 - 70s - loss: 0.8406 - accuracy: 0.6387 - 70s/epoch - 188ms/step\n",
      "Epoch 2/2\n",
      "372/372 - 62s - loss: 0.6859 - accuracy: 0.7098 - 62s/epoch - 166ms/step\n",
      "93/93 - 7s - 7s/epoch - 74ms/step\n",
      "Epoch 1/2\n",
      "372/372 - 64s - loss: 0.8281 - accuracy: 0.6396 - 64s/epoch - 173ms/step\n",
      "Epoch 2/2\n",
      "372/372 - 56s - loss: 0.6927 - accuracy: 0.7050 - 56s/epoch - 151ms/step\n",
      "93/93 - 6s - 6s/epoch - 64ms/step\n",
      "Epoch 1/2\n",
      "372/372 - 58s - loss: 0.8271 - accuracy: 0.6446 - 58s/epoch - 157ms/step\n",
      "Epoch 2/2\n",
      "372/372 - 50s - loss: 0.6773 - accuracy: 0.7156 - 50s/epoch - 135ms/step\n",
      "93/93 - 5s - 5s/epoch - 53ms/step\n",
      "Epoch 1/2\n",
      "372/372 - 52s - loss: 0.8341 - accuracy: 0.6405 - 52s/epoch - 140ms/step\n",
      "Epoch 2/2\n",
      "372/372 - 44s - loss: 0.6784 - accuracy: 0.7096 - 44s/epoch - 118ms/step\n",
      "93/93 - 7s - 7s/epoch - 76ms/step\n",
      "Epoch 1/2\n",
      "372/372 - 59s - loss: 0.8231 - accuracy: 0.6443 - 59s/epoch - 158ms/step\n",
      "Epoch 2/2\n",
      "372/372 - 49s - loss: 0.6736 - accuracy: 0.7115 - 49s/epoch - 131ms/step\n",
      "93/93 - 5s - 5s/epoch - 57ms/step\n",
      "186/186 - 29s - loss: 0.8418 - accuracy: 0.6363 - 29s/epoch - 156ms/step\n",
      "47/47 - 2s - 2s/epoch - 47ms/step\n",
      "186/186 - 28s - loss: 0.8382 - accuracy: 0.6399 - 28s/epoch - 153ms/step\n",
      "47/47 - 2s - 2s/epoch - 43ms/step\n",
      "186/186 - 31s - loss: 0.8399 - accuracy: 0.6317 - 31s/epoch - 169ms/step\n",
      "47/47 - 3s - 3s/epoch - 64ms/step\n",
      "186/186 - 29s - loss: 0.8429 - accuracy: 0.6336 - 29s/epoch - 156ms/step\n",
      "47/47 - 3s - 3s/epoch - 56ms/step\n",
      "186/186 - 28s - loss: 0.8446 - accuracy: 0.6364 - 28s/epoch - 151ms/step\n",
      "47/47 - 3s - 3s/epoch - 54ms/step\n",
      "Epoch 1/2\n",
      "186/186 - 29s - loss: 0.8466 - accuracy: 0.6386 - 29s/epoch - 153ms/step\n",
      "Epoch 2/2\n",
      "186/186 - 20s - loss: 0.6910 - accuracy: 0.7057 - 20s/epoch - 108ms/step\n",
      "47/47 - 2s - 2s/epoch - 39ms/step\n",
      "Epoch 1/2\n",
      "186/186 - 31s - loss: 0.8419 - accuracy: 0.6377 - 31s/epoch - 165ms/step\n",
      "Epoch 2/2\n",
      "186/186 - 22s - loss: 0.6962 - accuracy: 0.7045 - 22s/epoch - 120ms/step\n",
      "47/47 - 3s - 3s/epoch - 61ms/step\n",
      "Epoch 1/2\n",
      "186/186 - 29s - loss: 0.8519 - accuracy: 0.6329 - 29s/epoch - 158ms/step\n",
      "Epoch 2/2\n",
      "186/186 - 22s - loss: 0.6911 - accuracy: 0.7037 - 22s/epoch - 116ms/step\n",
      "47/47 - 2s - 2s/epoch - 49ms/step\n",
      "Epoch 1/2\n",
      "186/186 - 29s - loss: 0.8415 - accuracy: 0.6412 - 29s/epoch - 156ms/step\n",
      "Epoch 2/2\n",
      "186/186 - 21s - loss: 0.6790 - accuracy: 0.7104 - 21s/epoch - 111ms/step\n",
      "47/47 - 2s - 2s/epoch - 53ms/step\n",
      "Epoch 1/2\n",
      "186/186 - 30s - loss: 0.8390 - accuracy: 0.6356 - 30s/epoch - 163ms/step\n",
      "Epoch 2/2\n",
      "186/186 - 22s - loss: 0.6813 - accuracy: 0.7077 - 22s/epoch - 118ms/step\n",
      "47/47 - 3s - 3s/epoch - 61ms/step\n",
      "Epoch 1/2\n",
      "930/930 - 98s - loss: 0.8115 - accuracy: 0.6548 - 98s/epoch - 105ms/step\n",
      "Epoch 2/2\n",
      "930/930 - 89s - loss: 0.6698 - accuracy: 0.7154 - 89s/epoch - 95ms/step\n",
      "Best: 0.678358 using {'batch_size': 10, 'epochs': 2}\n"
     ]
    }
   ],
   "source": [
    "from scikeras.wrappers import KerasClassifier #importing Keras classifier\n",
    "\n",
    "from sklearn.model_selection import GridSearchCV #importing Grid search CV\n",
    "\n",
    "model = KerasClassifier(model=createmodel,verbose=2) #initiating model to test performance by applying multiple hyper parameters\n",
    "batch_size= [10, 20, 40] #hyper parameter batch_size\n",
    "epochs = [1, 2] #hyper parameter no. of epochs\n",
    "param_grid= {'batch_size':batch_size, 'epochs':epochs} #creating dictionary for batch size, no. of epochs\n",
    "grid  = GridSearchCV(estimator=model, param_grid=param_grid) #Applying dictionary with hyper parameters\n",
    "grid_result= grid.fit(X_train,Y_train) #Fitting the model\n",
    "# summarize results\n",
    "print(\"Best: %f using %s\" % (grid_result.best_score_, grid_result.best_params_)) #best score, best hyper parameters\n",
    "     "
   ]
  }
 ],
 "metadata": {
  "kernelspec": {
   "display_name": "Python 3 (ipykernel)",
   "language": "python",
   "name": "python3"
  },
  "language_info": {
   "codemirror_mode": {
    "name": "ipython",
    "version": 3
   },
   "file_extension": ".py",
   "mimetype": "text/x-python",
   "name": "python",
   "nbconvert_exporter": "python",
   "pygments_lexer": "ipython3",
   "version": "3.11.5"
  }
 },
 "nbformat": 4,
 "nbformat_minor": 5
}
